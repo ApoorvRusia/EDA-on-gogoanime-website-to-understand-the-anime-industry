{
 "cells": [
  {
   "cell_type": "markdown",
   "metadata": {},
   "source": [
    "# Importing the required packages"
   ]
  },
  {
   "cell_type": "code",
   "execution_count": 57,
   "metadata": {},
   "outputs": [],
   "source": [
    "import requests\n",
    "from bs4 import BeautifulSoup\n",
    "import urllib.request\n",
    "from contextlib import closing\n",
    "import numpy as np\n",
    "import pandas as pd\n",
    "import matplotlib.pyplot as plt\n",
    "import time\n",
    "from selenium import webdriver\n",
    "from itertools import chain"
   ]
  },
  {
   "cell_type": "markdown",
   "metadata": {},
   "source": [
    "### url which has to be used for scraping"
   ]
  },
  {
   "cell_type": "code",
   "execution_count": 58,
   "metadata": {},
   "outputs": [],
   "source": [
    "#url = 'https://mvgee.com/home'\n",
    "url = 'https://gogoanime.in'"
   ]
  },
  {
   "cell_type": "markdown",
   "metadata": {},
   "source": [
    "### the function to retrieve the text content of the webpage"
   ]
  },
  {
   "cell_type": "code",
   "execution_count": 59,
   "metadata": {},
   "outputs": [],
   "source": [
    "def simple_get(url):\n",
    "    \"\"\"\n",
    "    Attempts to get the content at `url` by making an HTTP GET request.\n",
    "    If the content-type of response is some kind of HTML/XML, return the\n",
    "    text content, otherwise return None\n",
    "    \"\"\"\n",
    "    try:\n",
    "        with closing(requests.get(url, stream=True)) as resp:\n",
    "            if is_good_response(resp):\n",
    "                return resp.content\n",
    "            else:\n",
    "                return None\n",
    "\n",
    "    except requests.RequestException as e:\n",
    "        log_error('Error during requests to {0} : {1}'.format(url, str(e)))\n",
    "        return None\n",
    "\n",
    "\n",
    "def is_good_response(resp):\n",
    "    \"\"\"\n",
    "    Returns true if the response seems to be HTML, false otherwise\n",
    "    \"\"\"\n",
    "    content_type = resp.headers['Content-Type'].lower()\n",
    "    return (resp.status_code == 200 \n",
    "            and content_type is not None \n",
    "            and content_type.find('html') > -1)\n",
    "\n",
    "\n",
    "def log_error(e):\n",
    "    \"\"\"\n",
    "    It is always a good idea to log errors. \n",
    "    This function just prints them, but you can\n",
    "    make it do anything.\n",
    "    \"\"\"\n",
    "    print(e)"
   ]
  },
  {
   "cell_type": "code",
   "execution_count": 60,
   "metadata": {},
   "outputs": [],
   "source": [
    "#page is a requests object which holds the downloaded html page\n",
    "page = simple_get(url)\n",
    "#print(page)"
   ]
  },
  {
   "cell_type": "code",
   "execution_count": 61,
   "metadata": {},
   "outputs": [],
   "source": [
    "#creating the BeautifulSoup object\n",
    "soup = BeautifulSoup(page, 'html.parser')"
   ]
  },
  {
   "cell_type": "markdown",
   "metadata": {},
   "source": [
    "### checking the ongoing tv series."
   ]
  },
  {
   "cell_type": "code",
   "execution_count": 62,
   "metadata": {},
   "outputs": [
    {
     "data": {
      "text/html": [
       "<div>\n",
       "<style scoped>\n",
       "    .dataframe tbody tr th:only-of-type {\n",
       "        vertical-align: middle;\n",
       "    }\n",
       "\n",
       "    .dataframe tbody tr th {\n",
       "        vertical-align: top;\n",
       "    }\n",
       "\n",
       "    .dataframe thead th {\n",
       "        text-align: right;\n",
       "    }\n",
       "</style>\n",
       "<table border=\"1\" class=\"dataframe\">\n",
       "  <thead>\n",
       "    <tr style=\"text-align: right;\">\n",
       "      <th></th>\n",
       "      <th>TVseriesName</th>\n",
       "      <th>Link</th>\n",
       "    </tr>\n",
       "  </thead>\n",
       "  <tbody>\n",
       "    <tr>\n",
       "      <th>0</th>\n",
       "      <td>3D Kanojo: Real Girl</td>\n",
       "      <td>https://gogoanime.in/category/3d-kanojo-real-girl</td>\n",
       "    </tr>\n",
       "    <tr>\n",
       "      <th>1</th>\n",
       "      <td>Aikatsu Friends!</td>\n",
       "      <td>https://gogoanime.in/category/aikatsu-friends</td>\n",
       "    </tr>\n",
       "    <tr>\n",
       "      <th>2</th>\n",
       "      <td>Aishen Qiaokeli-ing... 2nd Season</td>\n",
       "      <td>https://gogoanime.in/category/aishen-qiaokeli-...</td>\n",
       "    </tr>\n",
       "    <tr>\n",
       "      <th>3</th>\n",
       "      <td>Akkun to Kanojo</td>\n",
       "      <td>https://gogoanime.in/category/akkun-to-kanojo</td>\n",
       "    </tr>\n",
       "    <tr>\n",
       "      <th>4</th>\n",
       "      <td>Alice or Alice: Siscon Niisan to Futago no Imouto</td>\n",
       "      <td>https://gogoanime.in/category/alice-or-alice-s...</td>\n",
       "    </tr>\n",
       "  </tbody>\n",
       "</table>\n",
       "</div>"
      ],
      "text/plain": [
       "                                        TVseriesName  \\\n",
       "0                               3D Kanojo: Real Girl   \n",
       "1                                   Aikatsu Friends!   \n",
       "2                  Aishen Qiaokeli-ing... 2nd Season   \n",
       "3                                    Akkun to Kanojo   \n",
       "4  Alice or Alice: Siscon Niisan to Futago no Imouto   \n",
       "\n",
       "                                                Link  \n",
       "0  https://gogoanime.in/category/3d-kanojo-real-girl  \n",
       "1      https://gogoanime.in/category/aikatsu-friends  \n",
       "2  https://gogoanime.in/category/aishen-qiaokeli-...  \n",
       "3      https://gogoanime.in/category/akkun-to-kanojo  \n",
       "4  https://gogoanime.in/category/alice-or-alice-s...  "
      ]
     },
     "execution_count": 62,
     "metadata": {},
     "output_type": "execute_result"
    }
   ],
   "source": [
    "# retrieving the ongoing series name and link in the right side menu...\n",
    "\n",
    "#reading the content of the division tag where the links of ongoing series are available\n",
    "ongoingseries = soup.find_all('div', class_=\"overview\")\n",
    "\n",
    "#reading all the links in a list object from the division bs4.object.Tag ongoingseries\n",
    "links= list(chain.from_iterable([n.find_all('a') for n in ongoingseries]))\n",
    "\n",
    "#creating a dataframe to store all the ongoing series with name and url link\n",
    "ongoingseries_df = pd.DataFrame(data=None, columns=['TVseriesName', 'Link'],index=None)\n",
    "\n",
    "#using for loop to extract all the urls and tv series name and storing it 1 by 1 into the dataframe\n",
    "for link in links:\n",
    "    ongoingseries_df = ongoingseries_df.append({'TVseriesName': link.get_text(), 'Link': url+link.get('href')}, ignore_index=True)\n",
    "\n",
    "#printing the first five values in the dataframe to check if it stored properly or  not\n",
    "ongoingseries_df.head()"
   ]
  },
  {
   "cell_type": "markdown",
   "metadata": {},
   "source": [
    "### Checking the recently added tv series"
   ]
  },
  {
   "cell_type": "code",
   "execution_count": 63,
   "metadata": {},
   "outputs": [
    {
     "data": {
      "text/html": [
       "<div>\n",
       "<style scoped>\n",
       "    .dataframe tbody tr th:only-of-type {\n",
       "        vertical-align: middle;\n",
       "    }\n",
       "\n",
       "    .dataframe tbody tr th {\n",
       "        vertical-align: top;\n",
       "    }\n",
       "\n",
       "    .dataframe thead th {\n",
       "        text-align: right;\n",
       "    }\n",
       "</style>\n",
       "<table border=\"1\" class=\"dataframe\">\n",
       "  <thead>\n",
       "    <tr style=\"text-align: right;\">\n",
       "      <th></th>\n",
       "      <th>TVseriesName</th>\n",
       "      <th>Link</th>\n",
       "    </tr>\n",
       "  </thead>\n",
       "  <tbody>\n",
       "    <tr>\n",
       "      <th>0</th>\n",
       "      <td>Uchuu Senkan Yamato 2202: Ai no Senshi-tachi</td>\n",
       "      <td>https://gogoanime.in/category/uchuu-senkan-yam...</td>\n",
       "    </tr>\n",
       "    <tr>\n",
       "      <th>1</th>\n",
       "      <td>Full Metal Panic! Invisible Victory (Dub)</td>\n",
       "      <td>https://gogoanime.in/category/full-metal-panic...</td>\n",
       "    </tr>\n",
       "    <tr>\n",
       "      <th>2</th>\n",
       "      <td>Douluo Dalu - Soul Land</td>\n",
       "      <td>https://gogoanime.in/category/douluo-dalu-soul...</td>\n",
       "    </tr>\n",
       "    <tr>\n",
       "      <th>3</th>\n",
       "      <td>Yaoguai Mingdan Season 1</td>\n",
       "      <td>https://gogoanime.in/category/yaoguai-mingdan-...</td>\n",
       "    </tr>\n",
       "    <tr>\n",
       "      <th>4</th>\n",
       "      <td>Yaoguai Mingdan Season 2</td>\n",
       "      <td>https://gogoanime.in/category/yaoguai-mingdan-...</td>\n",
       "    </tr>\n",
       "  </tbody>\n",
       "</table>\n",
       "</div>"
      ],
      "text/plain": [
       "                                   TVseriesName  \\\n",
       "0  Uchuu Senkan Yamato 2202: Ai no Senshi-tachi   \n",
       "1     Full Metal Panic! Invisible Victory (Dub)   \n",
       "2                       Douluo Dalu - Soul Land   \n",
       "3                      Yaoguai Mingdan Season 1   \n",
       "4                      Yaoguai Mingdan Season 2   \n",
       "\n",
       "                                                Link  \n",
       "0  https://gogoanime.in/category/uchuu-senkan-yam...  \n",
       "1  https://gogoanime.in/category/full-metal-panic...  \n",
       "2  https://gogoanime.in/category/douluo-dalu-soul...  \n",
       "3  https://gogoanime.in/category/yaoguai-mingdan-...  \n",
       "4  https://gogoanime.in/category/yaoguai-mingdan-...  "
      ]
     },
     "execution_count": 63,
     "metadata": {},
     "output_type": "execute_result"
    }
   ],
   "source": [
    "#reading the content of the division tag where the links of ongoing series are available\n",
    "recentlyAddedSeries = soup.find_all('div', class_=\"added_series_body final\")\n",
    "\n",
    "#reading all the links in a list object from the division bs4.object.Tag ongoingseries\n",
    "links= list(chain.from_iterable([n.find_all('a') for n in recentlyAddedSeries]))\n",
    "\n",
    "#creating a dataframe to store all the ongoing series with name and url link\n",
    "recentlyAddedSeries_df = pd.DataFrame(data=None, columns=['TVseriesName', 'Link'],index=None)\n",
    "\n",
    "#using for loop to extract all the urls and tv series name and storing it 1 by 1 into the dataframe\n",
    "for link in links:\n",
    "    #print(link)\n",
    "    recentlyAddedSeries_df = recentlyAddedSeries_df.append({'TVseriesName': link.get_text(), 'Link': url+link.get('href')}, ignore_index=True)\n",
    "\n",
    "#printing the first five values in the dataframe to check if it stored properly or  not\n",
    "recentlyAddedSeries_df.head()"
   ]
  },
  {
   "cell_type": "markdown",
   "metadata": {},
   "source": [
    "### now extracting all the anime tv series from link - https://gogoanime.in/anime-list.html\n",
    "Note - to go to this url, click on anime list on top of the main page."
   ]
  },
  {
   "cell_type": "code",
   "execution_count": 64,
   "metadata": {},
   "outputs": [],
   "source": [
    "url = 'https://gogoanime.in/anime-list.html?page=1'"
   ]
  },
  {
   "cell_type": "code",
   "execution_count": 65,
   "metadata": {},
   "outputs": [],
   "source": [
    "#page is a requests object which holds the downloaded html page\n",
    "page = simple_get(url)\n",
    "#print(page)"
   ]
  },
  {
   "cell_type": "code",
   "execution_count": 66,
   "metadata": {},
   "outputs": [],
   "source": [
    "#creating the BeautifulSoup object\n",
    "soup = BeautifulSoup(page, 'html.parser')"
   ]
  },
  {
   "cell_type": "code",
   "execution_count": 67,
   "metadata": {},
   "outputs": [],
   "source": [
    "#print(soup.prettify())"
   ]
  },
  {
   "cell_type": "code",
   "execution_count": 68,
   "metadata": {},
   "outputs": [
    {
     "name": "stdout",
     "output_type": "stream",
     "text": [
      "Genre: Drama, School, Shounen Ai, Slice of Life\n",
      "http://gogoanime.in/genre/drama\n",
      "Released: 2006\n",
      "Status:  Completed\n",
      "Plot Summary:  Life goes on for the ladies in the Yamayurikai. On the one-year anniversary of Sachiko and Yumi becoming sisters, Yumi receives a difficult task from Sachiko: to finally acknowledge someone as her younger sister.\r\n",
      " \n"
     ]
    }
   ],
   "source": [
    "#reading the content of the division tag where the links of ongoing series are available\n",
    "animelist = soup.find_all('div', class_=\"anime_list_body\")\n",
    "#print(animelist)\n",
    "\n",
    "#reading all the linklist in a list object from the division bs4.object.Tag animelist\n",
    "linklist= list(chain.from_iterable([n.find_all('li') for n in animelist]))\n",
    "\n",
    "trialsoup = BeautifulSoup(linklist[0].get('title'), \"html.parser\") \n",
    "\n",
    "# Genres of the anime tv series\n",
    "print(trialsoup.find_all('p',class_='type')[0].get_text())\n",
    "#finding link of the genres.\n",
    "print(trialsoup.find_all('p',class_='type')[0].find_all('a')[0].get('href'))\n",
    "# Released year of the anime tv series\n",
    "print(trialsoup.find_all('p',class_='type')[1].get_text())\n",
    "\n",
    "# Status of the anime tv series\n",
    "print(trialsoup.find_all('p',class_='type')[2].get_text())\n",
    "# Plot Summary of the anime tv series\n",
    "print(trialsoup.find('p',class_='sumer').get_text())"
   ]
  },
  {
   "cell_type": "code",
   "execution_count": 41,
   "metadata": {},
   "outputs": [
    {
     "name": "stdout",
     "output_type": "stream",
     "text": [
      "?page=1\n",
      "Link -  ?page=1\n",
      "Data -  1\n",
      "Text -  1\n",
      "Link -  ?page=2\n",
      "Data -  2\n",
      "Text -  2\n",
      "Link -  ?page=3\n",
      "Data -  3\n",
      "Text -  3\n",
      "Link -  ?page=4\n",
      "Data -  4\n",
      "Text -  4\n",
      "Link -  ?page=5\n",
      "Data -  5\n",
      "Text -  5\n"
     ]
    }
   ],
   "source": [
    "###checking pagination to extract data\n",
    "\n",
    "#reading the content of the division tag where the links of ongoing series are available\n",
    "pagination = soup.find_all('div', class_=\"anime_name_pagination\")[0]\n",
    "\n",
    "print(pagination.find_all('a')[0].get('href'))\n",
    "pagination = pagination.find_all('a')\n",
    "\n",
    "for page in pagination:\n",
    "    #print(page)\n",
    "    print('Link - ',page.get('href'))\n",
    "    print('Data - ',page.get('data-page'))\n",
    "    print('Text - ',page.get_text())"
   ]
  },
  {
   "cell_type": "code",
   "execution_count": 100,
   "metadata": {},
   "outputs": [],
   "source": [
    "def animeName(soupyHtml):\n",
    "    return soupyHtml.find('a', class_='bigChar').get_text()\n",
    "\n",
    "def animeLink(soupyHtml):\n",
    "    return soupyHtml.find('a').get('href')\n",
    "\n",
    "def animeGenre(soupyHtml):\n",
    "    return soupyHtml.find_all('p',class_='type')[0].get_text().split(': ')[1]\n",
    "\n",
    "def animeReleasedYear(soupyHtml):\n",
    "    return soupyHtml.find_all('p',class_='type')[1].get_text().split(': ')[1]\n",
    "\n",
    "def animeStatus(soupyHtml):\n",
    "    return soupyHtml.find_all('p',class_='type')[2].get_text().split(': ')[1]\n",
    "\n",
    "def animeSummaryPlot(soupyHtml):\n",
    "    return soupyHtml.find('p',class_='sumer').get_text().split(': ')[1]\n"
   ]
  },
  {
   "cell_type": "code",
   "execution_count": 101,
   "metadata": {},
   "outputs": [],
   "source": [
    "pageNo = 1\n",
    "url = 'https://gogoanime.in/anime-list.html?page='\n",
    "parenturl = 'https://gogoanime.in'\n",
    "#creating dataframe to store the scraped Data\n",
    "completeAnimeList_df = pd.DataFrame(data=None, columns=['TVseriesName', 'URL', 'Genres', 'ReleaseYear', 'Status', 'SummaryPlot'], index= None)"
   ]
  },
  {
   "cell_type": "code",
   "execution_count": 105,
   "metadata": {},
   "outputs": [],
   "source": [
    "\n",
    "while True:\n",
    "    page = simple_get(url + str(pageNo))\n",
    "    #if page object does not have any value, the simple_get function will return None\n",
    "    if page == None:\n",
    "        break\n",
    "    else:\n",
    "        #parsing the page object into beautifulSoup object for accessing the HTML\n",
    "        soup = BeautifulSoup(page,'html.parser')\n",
    "        #reading the list of tv series names from the division tag anime_list_body\n",
    "        animelist = soup.find_all('div', class_=\"anime_list_body\")\n",
    "        #checking if there are any series listed in that page. if not then breaking out of the loop\n",
    "        if len(animelist[0].find_all('a')) == 0:\n",
    "            break\n",
    "        else:\n",
    "            #reading all the linklist in a list object from the division bs4.object.Tag animelist\n",
    "            linklist= list(chain.from_iterable([n.find_all('li') for n in animelist]))\n",
    "            for link in linklist:\n",
    "                tooltipsoup = BeautifulSoup(link.get('title'), \"html.parser\") \n",
    "                \n",
    "                seriesName = animeName(tooltipsoup) # Name of the anime tv series\n",
    "                \n",
    "                \n",
    "                serieslink = parenturl + animeLink(link) # Link of the TV series\n",
    "                \n",
    "                \n",
    "                genres = animeGenre(tooltipsoup)  # Genres of the anime tv series\n",
    "                \n",
    "                \n",
    "                releasedYear = animeReleasedYear(tooltipsoup)  # Released year of the anime tv series\n",
    "                \n",
    "\n",
    "                status = animeStatus(tooltipsoup)  # Status of the anime tv series\n",
    "                \n",
    "                \n",
    "                summaryPlot = animeSummaryPlot(tooltipsoup)  # Plot Summary of the anime tv series\n",
    "                \n",
    "                printstatus = 0\n",
    "                if printstatus == 1:\n",
    "                    print('Name', seriesName)\n",
    "                    print('link', serieslink)\n",
    "                    print('Genre', genres)\n",
    "                    print('Released ', releasedYear)\n",
    "                    print('Status', status)\n",
    "                    print('Summary', summaryPlot)\n",
    "                    \n",
    "                    \n",
    "                \n",
    "                completeAnimeList_df = completeAnimeList_df.append({'TVseriesName' : seriesName , 'URL' : serieslink, 'Genres' : genres, 'ReleaseYear' : releasedYear, 'Status' : status, 'SummaryPlot' : summaryPlot}, ignore_index=True)\n",
    "\n",
    "            pageNo +=1\n",
    "            #break"
   ]
  },
  {
   "cell_type": "code",
   "execution_count": 106,
   "metadata": {},
   "outputs": [
    {
     "data": {
      "text/html": [
       "<div>\n",
       "<style scoped>\n",
       "    .dataframe tbody tr th:only-of-type {\n",
       "        vertical-align: middle;\n",
       "    }\n",
       "\n",
       "    .dataframe tbody tr th {\n",
       "        vertical-align: top;\n",
       "    }\n",
       "\n",
       "    .dataframe thead th {\n",
       "        text-align: right;\n",
       "    }\n",
       "</style>\n",
       "<table border=\"1\" class=\"dataframe\">\n",
       "  <thead>\n",
       "    <tr style=\"text-align: right;\">\n",
       "      <th></th>\n",
       "      <th>TVseriesName</th>\n",
       "      <th>URL</th>\n",
       "      <th>Genres</th>\n",
       "      <th>ReleaseYear</th>\n",
       "      <th>Status</th>\n",
       "      <th>SummaryPlot</th>\n",
       "    </tr>\n",
       "  </thead>\n",
       "  <tbody>\n",
       "    <tr>\n",
       "      <th>5424</th>\n",
       "      <td>Zoku Touken Ranbu: Hanamaru (Dub)</td>\n",
       "      <td>https://gogoanime.in/category/zoku-touken-ranb...</td>\n",
       "      <td>Action, Comedy, Drama, Fantasy, Slice of Life</td>\n",
       "      <td>2018</td>\n",
       "      <td>Completed</td>\n",
       "      <td>Sequel of Touken Ranbu</td>\n",
       "    </tr>\n",
       "    <tr>\n",
       "      <th>5425</th>\n",
       "      <td>Zombie Loan</td>\n",
       "      <td>https://gogoanime.in/category/zombie-loan</td>\n",
       "      <td>Action, Horror, Shounen, Supernatural</td>\n",
       "      <td>2007</td>\n",
       "      <td>Completed</td>\n",
       "      <td>Zombie Loan\\r\\nZombie Loan is about a special...</td>\n",
       "    </tr>\n",
       "    <tr>\n",
       "      <th>5426</th>\n",
       "      <td>Zone of the Enders: Dolores (Dub)</td>\n",
       "      <td>https://gogoanime.in/category/zone-of-the-ende...</td>\n",
       "      <td>Action, Adventure, Comedy, Mecha, Military, Sc...</td>\n",
       "      <td>2001</td>\n",
       "      <td>Completed</td>\n",
       "      <td>49-year-old James Lynx was an officer (LEV pi...</td>\n",
       "    </tr>\n",
       "    <tr>\n",
       "      <th>5427</th>\n",
       "      <td>Zone of the Enders: Idolo</td>\n",
       "      <td>https://gogoanime.in/category/zone-of-the-ende...</td>\n",
       "      <td>Action, Drama, Mecha, Military, Romance, Sci-F...</td>\n",
       "      <td>2001</td>\n",
       "      <td>Completed</td>\n",
       "      <td>Z.O.E. 2167 Idolo will take place a few years...</td>\n",
       "    </tr>\n",
       "    <tr>\n",
       "      <th>5428</th>\n",
       "      <td>Zutto Mae kara Suki deshita.: Kokuhaku Jikkou ...</td>\n",
       "      <td>https://gogoanime.in/category/zutto-mae-kara-s...</td>\n",
       "      <td>Romance, School</td>\n",
       "      <td>2016</td>\n",
       "      <td>Completed</td>\n",
       "      <td>Kokuhaku Jikkou Iinkai</td>\n",
       "    </tr>\n",
       "  </tbody>\n",
       "</table>\n",
       "</div>"
      ],
      "text/plain": [
       "                                           TVseriesName  \\\n",
       "5424                  Zoku Touken Ranbu: Hanamaru (Dub)   \n",
       "5425                                        Zombie Loan   \n",
       "5426                  Zone of the Enders: Dolores (Dub)   \n",
       "5427                          Zone of the Enders: Idolo   \n",
       "5428  Zutto Mae kara Suki deshita.: Kokuhaku Jikkou ...   \n",
       "\n",
       "                                                    URL  \\\n",
       "5424  https://gogoanime.in/category/zoku-touken-ranb...   \n",
       "5425          https://gogoanime.in/category/zombie-loan   \n",
       "5426  https://gogoanime.in/category/zone-of-the-ende...   \n",
       "5427  https://gogoanime.in/category/zone-of-the-ende...   \n",
       "5428  https://gogoanime.in/category/zutto-mae-kara-s...   \n",
       "\n",
       "                                                 Genres ReleaseYear  \\\n",
       "5424      Action, Comedy, Drama, Fantasy, Slice of Life        2018   \n",
       "5425              Action, Horror, Shounen, Supernatural        2007   \n",
       "5426  Action, Adventure, Comedy, Mecha, Military, Sc...        2001   \n",
       "5427  Action, Drama, Mecha, Military, Romance, Sci-F...        2001   \n",
       "5428                                    Romance, School        2016   \n",
       "\n",
       "          Status                                        SummaryPlot  \n",
       "5424   Completed                             Sequel of Touken Ranbu  \n",
       "5425   Completed   Zombie Loan\\r\\nZombie Loan is about a special...  \n",
       "5426   Completed   49-year-old James Lynx was an officer (LEV pi...  \n",
       "5427   Completed   Z.O.E. 2167 Idolo will take place a few years...  \n",
       "5428   Completed                             Kokuhaku Jikkou Iinkai  "
      ]
     },
     "execution_count": 106,
     "metadata": {},
     "output_type": "execute_result"
    }
   ],
   "source": [
    "completeAnimeList_df.tail()"
   ]
  },
  {
   "cell_type": "code",
   "execution_count": 114,
   "metadata": {},
   "outputs": [
    {
     "data": {
      "text/plain": [
       "(array([ 139.,   28.,  143.,  454., 1529., 3136.]),\n",
       " array([ 0.        ,  9.66666667, 19.33333333, 29.        , 38.66666667,\n",
       "        48.33333333, 58.        ]),\n",
       " <a list of 6 Patch objects>)"
      ]
     },
     "execution_count": 114,
     "metadata": {},
     "output_type": "execute_result"
    },
    {
     "data": {
      "image/png": "[encoded data removed]",
      "text/plain": [
       "<matplotlib.figure.Figure at 0xc646828>"
      ]
     },
     "metadata": {},
     "output_type": "display_data"
    }
   ],
   "source": [
    "#Histogram for release year Data\n",
    "plt.hist(completeAnimeList_df.ReleaseYear, 6, facecolor='blue', alpha=0.5)"
   ]
  },
  {
   "cell_type": "code",
   "execution_count": 119,
   "metadata": {},
   "outputs": [
    {
     "name": "stdout",
     "output_type": "stream",
     "text": [
      "2006 208\n",
      "2007 198\n",
      "2008 206\n",
      "2003 146\n",
      "2002 136\n",
      "2011 244\n",
      "2012 335\n",
      "2009 242\n",
      "2017 370\n",
      "1999 92\n",
      "2016 421\n",
      "2014 412\n",
      "2004 162\n",
      "2018 172\n",
      "1991 26\n",
      "1976 1\n",
      "2001 123\n",
      "2013 352\n",
      "1990 30\n",
      "2015 384\n",
      "1981 9\n",
      "1997 51\n",
      "2005 172\n",
      "1993 36\n",
      "2000 86\n",
      "1992 32\n",
      "1983 10\n",
      "1994 53\n",
      "2010 204\n",
      "1988 25\n",
      "1960 1\n",
      "1971 2\n",
      "1998 68\n",
      "0 128\n",
      "1989 39\n",
      "1985 21\n",
      "1961 1\n",
      "1996 61\n",
      "1995 58\n",
      "1986 21\n",
      "1970 1\n",
      "1980 9\n",
      "1969 1\n",
      "1984 16\n",
      "1987 20\n",
      "1978 8\n",
      "1968 2\n",
      "1979 6\n",
      "1975 4\n",
      "1982 12\n",
      "1958 1\n",
      "1972 3\n",
      "1965 1\n",
      "1977 1\n",
      "1973 1\n",
      "1959 1\n",
      "1974 1\n",
      "1963 2\n",
      "1967 1\n",
      "5429\n"
     ]
    }
   ],
   "source": [
    "yearlist = completeAnimeList_df.ReleaseYear.unique()\n",
    "a = 0\n",
    "for year in  yearlist:\n",
    "    a+= len(completeAnimeList_df[completeAnimeList_df.ReleaseYear == year])\n",
    "    print(year, len(completeAnimeList_df[completeAnimeList_df.ReleaseYear == year]))\n",
    "\n",
    "print(a)"
   ]
  },
  {
   "cell_type": "code",
   "execution_count": null,
   "metadata": {},
   "outputs": [],
   "source": []
  }
 ],
 "metadata": {
  "kernelspec": {
   "display_name": "Python 3",
   "language": "python",
   "name": "python3"
  },
  "language_info": {
   "codemirror_mode": {
    "name": "ipython",
    "version": 3
   },
   "file_extension": ".py",
   "mimetype": "text/x-python",
   "name": "python",
   "nbconvert_exporter": "python",
   "pygments_lexer": "ipython3",
   "version": "3.6.4"
  }
 },
 "nbformat": 4,
 "nbformat_minor": 2
}
